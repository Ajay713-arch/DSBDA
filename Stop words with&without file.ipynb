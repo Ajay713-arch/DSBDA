{
 "cells": [
  {
   "cell_type": "code",
   "execution_count": 6,
   "id": "b3ebe96d",
   "metadata": {},
   "outputs": [
    {
     "name": "stdout",
     "output_type": "stream",
     "text": [
      "\u001b[38;5;2m✔ Download and installation successful\u001b[0m\n",
      "You can now load the package via spacy.load('en_core_web_sm')\n"
     ]
    },
    {
     "data": {
      "text/plain": [
       "326"
      ]
     },
     "execution_count": 6,
     "metadata": {},
     "output_type": "execute_result"
    }
   ],
   "source": [
    "import spacy \n",
    "spacy.cli.download(\"en_core_web_sm\")\n",
    "from spacy.lang.en.stop_words import STOP_WORDS\n",
    "len(STOP_WORDS)"
   ]
  },
  {
   "cell_type": "code",
   "execution_count": 7,
   "id": "8c7323cb",
   "metadata": {},
   "outputs": [],
   "source": [
    "nlp = spacy.load(\"en_core_web_sm\")\n",
    "\n",
    "# Sentence to remove stop words from \n",
    "doc = nlp(\"We just opened our wings ,  the flying part is coming soon \")"
   ]
  },
  {
   "cell_type": "code",
   "execution_count": 8,
   "id": "1c845694",
   "metadata": {},
   "outputs": [
    {
     "name": "stdout",
     "output_type": "stream",
     "text": [
      "We\n",
      "just\n",
      "our\n",
      "the\n",
      "part\n",
      "is\n",
      "We just our the part is\n"
     ]
    }
   ],
   "source": [
    "# Finding stop words in the document\n",
    "stop_words = [token.text for token in doc if token.is_stop]\n",
    "\n",
    "# Print the stop words\n",
    "for word in stop_words:\n",
    "    print(word)\n",
    "\n",
    "# Join the stop words into a sentence\n",
    "stop_sentence = ' '.join(stop_words)\n",
    "\n",
    "print(stop_sentence)\n"
   ]
  },
  {
   "cell_type": "code",
   "execution_count": 10,
   "id": "a657896e",
   "metadata": {},
   "outputs": [
    {
     "name": "stdout",
     "output_type": "stream",
     "text": [
      "Hello\n",
      "aman\n",
      "Hello aman\n"
     ]
    }
   ],
   "source": [
    "doc2 = nlp(\"Hello ! there what are you doing aman ?\")\n",
    "\n",
    "# Finding non stop_words from doc2 \n",
    "# non_stop_words = [tk.text for tk in doc2 if not tk.is_stop] \n",
    "\n",
    "#If we want to remove punctuation also \n",
    "non_stop_words = [tk.text for tk in doc2 if not tk.is_stop and not tk.is_punct]\n",
    "\n",
    "#print the non stop words\n",
    "for word in non_stop_words:\n",
    "    print(word)\n",
    "\n",
    "#Join the non stop word in a sentence \n",
    "non_stop_sentence = ' '.join(non_stop_words)\n",
    "\n",
    "print(non_stop_sentence)"
   ]
  },
  {
   "cell_type": "code",
   "execution_count": 11,
   "id": "5b253650",
   "metadata": {},
   "outputs": [
    {
     "name": "stdout",
     "output_type": "stream",
     "text": [
      "Stop Word removal completed. Output saved to 'output2.txt'.\n"
     ]
    }
   ],
   "source": [
    "# Using file\n",
    "# Read the input file\n",
    "with open('input.txt', 'r') as file:\n",
    "    text = file.read()\n",
    "\n",
    "doc3 = nlp(text)\n",
    "#If we want to remove punctuation also \n",
    "non_stop_words = [tk.text for tk in doc3 if not tk.is_stop and not tk.is_punct]\n",
    "\n",
    "#Join the non stop word in a sentence \n",
    "non_stop_sentence = ' '.join(non_stop_words)\n",
    "\n",
    "# Write the stemmed text to the output file\n",
    "with open('output2.txt', 'w') as file:\n",
    "    file.write(non_stop_sentence)\n",
    "\n",
    "print(\"Stop Word removal completed. Output saved to 'output2.txt'.\")"
   ]
  },
  {
   "cell_type": "code",
   "execution_count": null,
   "id": "8ca6928d",
   "metadata": {},
   "outputs": [],
   "source": []
  }
 ],
 "metadata": {
  "kernelspec": {
   "display_name": "Python 3 (ipykernel)",
   "language": "python",
   "name": "python3"
  },
  "language_info": {
   "codemirror_mode": {
    "name": "ipython",
    "version": 3
   },
   "file_extension": ".py",
   "mimetype": "text/x-python",
   "name": "python",
   "nbconvert_exporter": "python",
   "pygments_lexer": "ipython3",
   "version": "3.10.11"
  }
 },
 "nbformat": 4,
 "nbformat_minor": 5
}
